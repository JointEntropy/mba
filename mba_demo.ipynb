{
 "cells": [
  {
   "cell_type": "code",
   "execution_count": 1,
   "metadata": {},
   "outputs": [],
   "source": [
    "%load_ext autoreload\n",
    "%autoreload 2"
   ]
  },
  {
   "cell_type": "markdown",
   "metadata": {},
   "source": [
    "### Materials:\n",
    "\n",
    "https://medium.com/nuances-of-programming/%D0%B1%D0%B5%D1%82%D0%B0-%D1%80%D0%B0%D1%81%D0%BF%D1%80%D0%B5%D0%B4%D0%B5%D0%BB%D0%B5%D0%BD%D0%B8%D0%B5-%D0%B8%D0%BD%D1%82%D1%83%D0%B8%D1%86%D0%B8%D1%8F-%D0%BF%D1%80%D0%B8%D0%BC%D0%B5%D1%80%D1%8B-%D0%B2%D1%8B%D0%B2%D0%BE%D0%B4-4662b929305e\n",
    "\n",
    "https://homepage.divms.uiowa.edu/~mbognar/applets/beta.html\n",
    "\n",
    "https://nbviewer.jupyter.org/github/alexeygrigorev/mlcourse_open/blob/master/jupyter_notebooks/tutorials/multi-armed_bandits/mab.ipynb\n",
    "\n",
    "\n",
    "https://dataorigami.net/blogs/napkin-folding/79031811-multi-armed-bandits"
   ]
  },
  {
   "cell_type": "markdown",
   "metadata": {},
   "source": [
    "### Байесовский Бандит (или \"Bayesian Bernoulli Bandit\") \n",
    "\n",
    "...Теперь перейдем к самому бандиту. Итак, каждая рука у нас - это $\\theta_i$ , с приором $Beta(\\alpha_i, \\beta_i)$, где:\n",
    "\n",
    "- $\\alpha_i$ - это количество успешных исходов на текущий момент (+1),\n",
    "- $\\beta_i$ - количество неуспешных (тоже +1).\n",
    "\n",
    "Теперь алгоритм такой:\n",
    "\n",
    "1. для каждой руки делаем выборку из $\\theta_i \\sim Beta(\\alpha_i, \\beta_i)$\n",
    "2. выбираем руку, для которой значение семпла наибольшее, дёргаем именно за эту руку \n",
    "3. наблюдаем результат, обновляем параметры для выбранной руки в зависимости от исхода \n",
    "4. повторяем пока не надоест\n",
    "\n",
    "Этот алгоритм называется **Thompson Sampling**."
   ]
  },
  {
   "cell_type": "code",
   "execution_count": 113,
   "metadata": {},
   "outputs": [],
   "source": [
    "from scipy.stats import beta\n",
    "import numpy as np\n",
    "from matplotlib import pyplot as plt\n",
    "from IPython import display"
   ]
  },
  {
   "cell_type": "code",
   "execution_count": 114,
   "metadata": {},
   "outputs": [],
   "source": [
    "class Arm:\n",
    "    def __init__(self):\n",
    "        self.alpha = 1\n",
    "        self.beta = 1\n",
    "    \n",
    "    def sample(self):\n",
    "        return beta.rvs(self.alpha, self.beta)\n",
    "        \n",
    "    def update(self, outcome):\n",
    "        self.alpha = self.alpha + outcome\n",
    "        self.beta = self.beta + (1-outcome)\n",
    "        \n",
    "class Bandit:\n",
    "    def __init__(self, n):\n",
    "        self.arms = [Arm() for i in range(n)]\n",
    "        \n",
    "    def select_arm(self):\n",
    "        # сэмплируем вероятность выйграть для каждой руки(вероятность вероятности)\n",
    "        sampled_arm_chances = [arm.sample() for arm in self.arms]\n",
    "        # выбираем руки с наибольшей сэмплированной вероятностью\n",
    "        best_cur_step_arm_idx = np.argmax(sampled_arm_chances)\n",
    "        return best_cur_step_arm_idx, self.arms[best_cur_step_arm_idx]\n",
    "    "
   ]
  },
  {
   "cell_type": "code",
   "execution_count": 115,
   "metadata": {},
   "outputs": [],
   "source": [
    "!rm animation/*"
   ]
  },
  {
   "cell_type": "code",
   "execution_count": 116,
   "metadata": {},
   "outputs": [
    {
     "name": "stdout",
     "output_type": "stream",
     "text": [
      "mkdir: cannot create directory ‘animation’: File exists\r\n"
     ]
    }
   ],
   "source": [
    "!mkdir animation"
   ]
  },
  {
   "cell_type": "code",
   "execution_count": 118,
   "metadata": {},
   "outputs": [
    {
     "data": {
      "image/png": "[encoded data removed]",
      "text/plain": [
       "<Figure size 432x288 with 1 Axes>"
      ]
     },
     "metadata": {
      "needs_background": "light"
     },
     "output_type": "display_data"
    },
    {
     "data": {
      "text/plain": [
       "<Figure size 432x288 with 0 Axes>"
      ]
     },
     "metadata": {},
     "output_type": "display_data"
    }
   ],
   "source": [
    "def bernoulli_sampler(alpha):\n",
    "    def sampler():\n",
    "        return np.random.binomial(1, alpha)\n",
    "    return sampler\n",
    "\n",
    "def plot_arms_probs(arms):\n",
    "    x = np.linspace(0, 1, 200)\n",
    "    for i, arm in enumerate(arms):\n",
    "        pdf = beta.pdf(x, arm.alpha, arm.beta)\n",
    "        plt.fill_between(x, pdf, alpha=0.3, label=f'{i}')\n",
    "    plt.title('Bandits arms pdf.', fontsize=16)\n",
    "    plt.legend(fontsize=16)\n",
    "    plt.show()\n",
    "    \n",
    "    \n",
    "    \n",
    "probs = [0.6, 0.2, 0.3]\n",
    "outcomes_samplers = [bernoulli_sampler(p) for p in probs]\n",
    "\n",
    "bandit = Bandit(n=len(probs))\n",
    "\n",
    "N = 100\n",
    "for i in range(N):\n",
    "    arm_idx, arm = bandit.select_arm()\n",
    "    outcome = outcomes_samplers[arm_idx]()\n",
    "    arm.update(outcome)    \n",
    "    plot_arms_probs(bandit.arms)\n",
    "    plt.savefig('animation/iteration_%03d.png' % i)\n",
    "    plt.show()\n",
    "    display.clear_output(wait=True)"
   ]
  },
  {
   "cell_type": "code",
   "execution_count": null,
   "metadata": {},
   "outputs": [],
   "source": [
    "# thompson_sampling\n",
    "\n",
    "for i in range(n):\n",
    "    def \n",
    "    "
   ]
  }
 ],
 "metadata": {
  "kernelspec": {
   "display_name": "Python 3",
   "language": "python",
   "name": "python3"
  },
  "language_info": {
   "codemirror_mode": {
    "name": "ipython",
    "version": 3
   },
   "file_extension": ".py",
   "mimetype": "text/x-python",
   "name": "python",
   "nbconvert_exporter": "python",
   "pygments_lexer": "ipython3",
   "version": "3.6.2"
  }
 },
 "nbformat": 4,
 "nbformat_minor": 4
}
